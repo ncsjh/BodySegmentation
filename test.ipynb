{
 "cells": [
  {
   "cell_type": "code",
   "execution_count": 2,
   "metadata": {
    "collapsed": true
   },
   "outputs": [],
   "source": [
    "import exposal as E\n",
    "import pandas as pd"
   ]
  },
  {
   "cell_type": "code",
   "execution_count": 2,
   "outputs": [
    {
     "data": {
      "text/plain": "['Humerus',\n 'SCAPULAR',\n 'Calcaneus',\n 'SACRUM',\n 'OPTIC ',\n 'Mandible',\n 'Sternum',\n 'L-SPINE',\n 'KNEE',\n 'Elbow',\n 'NECK',\n 'RIB',\n 'T-SPINE',\n 'SHOULDER',\n 'CLAVICLE',\n 'TIBIA',\n 'Ankle',\n 'SKULL',\n 'FINGER',\n 'Zygoma',\n 'PELVIS',\n 'FOOT',\n 'Hand',\n 'C-SPINE',\n 'HIP',\n 'COCCYX',\n 'Wrist',\n 'ABD',\n 'CHEST',\n 'T.M Joint',\n 'Mastoid',\n 'P.N.S',\n 'NASAL',\n 'FUMUR']"
     },
     "execution_count": 2,
     "metadata": {},
     "output_type": "execute_result"
    }
   ],
   "source": [
    "E.getViews()"
   ],
   "metadata": {
    "collapsed": false
   }
  },
  {
   "cell_type": "code",
   "execution_count": 6,
   "outputs": [
    {
     "data": {
      "text/plain": "['PED PA', 'PED LAT', 'PA', 'Decubitus', 'LAT']"
     },
     "execution_count": 6,
     "metadata": {},
     "output_type": "execute_result"
    }
   ],
   "source": [
    "E.getPositions('CHEST')"
   ],
   "metadata": {
    "collapsed": false
   }
  },
  {
   "cell_type": "code",
   "execution_count": 3,
   "outputs": [],
   "source": [
    "exp=E.getExposal('CHEST', 'PED LAT')"
   ],
   "metadata": {
    "collapsed": false
   }
  },
  {
   "cell_type": "code",
   "execution_count": 6,
   "outputs": [
    {
     "data": {
      "text/plain": "8.0"
     },
     "execution_count": 6,
     "metadata": {},
     "output_type": "execute_result"
    }
   ],
   "source": [
    "exp['ma']*exp['msec']/1000"
   ],
   "metadata": {
    "collapsed": false
   }
  },
  {
   "cell_type": "code",
   "execution_count": 7,
   "outputs": [
    {
     "data": {
      "text/plain": "{'kvp': 95, 'ma': 320, 'msec': 25.0, 'mas': 8.0}"
     },
     "execution_count": 7,
     "metadata": {},
     "output_type": "execute_result"
    }
   ],
   "source": [
    "exp"
   ],
   "metadata": {
    "collapsed": false
   }
  }
 ],
 "metadata": {
  "kernelspec": {
   "display_name": "Python 3",
   "language": "python",
   "name": "python3"
  },
  "language_info": {
   "codemirror_mode": {
    "name": "ipython",
    "version": 2
   },
   "file_extension": ".py",
   "mimetype": "text/x-python",
   "name": "python",
   "nbconvert_exporter": "python",
   "pygments_lexer": "ipython2",
   "version": "2.7.6"
  }
 },
 "nbformat": 4,
 "nbformat_minor": 0
}
