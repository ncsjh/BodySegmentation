{
 "cells": [
  {
   "cell_type": "code",
   "execution_count": 1,
   "outputs": [],
   "source": [
    "import json\n",
    "import os\n",
    "import numpy as np"
   ],
   "metadata": {
    "collapsed": false
   }
  },
  {
   "cell_type": "code",
   "execution_count": 176,
   "outputs": [],
   "source": [
    "jsons_path='./jsons'\n",
    "json_file='01_01_F038_12.json'\n",
    "with open(os.path.join(jsons_path,json_file), 'r', encoding='utf-8') as f:\n",
    "    data = json.load(f)\n",
    "labels=[]\n",
    "for label in data['labelingInfo']:\n",
    "    labels.append(label['polygon'])"
   ],
   "metadata": {
    "collapsed": false
   }
  },
  {
   "cell_type": "code",
   "execution_count": 177,
   "outputs": [
    {
     "data": {
      "text/plain": "dict"
     },
     "execution_count": 177,
     "metadata": {},
     "output_type": "execute_result"
    }
   ],
   "source": [
    "type(data['labelingInfo'][0]['polygon'])"
   ],
   "metadata": {
    "collapsed": false
   }
  },
  {
   "cell_type": "code",
   "execution_count": 178,
   "outputs": [
    {
     "data": {
      "text/plain": "[{'polygon': {'color': '#1beaac',\n   'location': '1027 545 960 564 917 612 902 686 894 733 909 788 945 792 976 800 1000 851 1105 804 1094 749 1121 670 1121 596 1074 553 1027 545 ',\n   'label': '머리',\n   'type': 'polygon'}},\n {'polygon': {'color': '#27b73c',\n   'location': '1035 1893 1078 1889 1141 1874 1160 1925 1176 2003 1180 2082 1172 2156 1172 2238 1172 2262 1086 2266 1090 2223 1074 2121 1058 2023 1051 1948 1035 1893 ',\n   'label': '아래왼쪽다리',\n   'type': 'polygon'}},\n {'polygon': {'color': '#56bcec',\n   'location': '913 2344 917 2376 968 2403 1019 2403 1105 2399 1180 2383 1196 2360 1188 2317 1176 2274 1082 2274 1070 2289 1031 2309 976 2328 913 2344 ',\n   'label': '왼발',\n   'type': 'polygon'}}]"
     },
     "execution_count": 178,
     "metadata": {},
     "output_type": "execute_result"
    }
   ],
   "source": [
    "data['labelingInfo']"
   ],
   "metadata": {
    "collapsed": false
   }
  },
  {
   "cell_type": "code",
   "execution_count": 196,
   "outputs": [
    {
     "data": {
      "text/plain": "'880 1098 932 1097 984 1095 1001 1106 1049 1123 1074 1131 1098 1135 1124 1147 1134 1157 1108 1224 1098 1258 1092 1299 1091 1328 1096 1365 1093 1399 1090 1423 1084 1458 1084 1485 1089 1508 1088 1525 1071 1523 1006 1531 941 1536 859 1530 831 1533 832 1516 841 1482 828 1431 821 1397 815 1385 818 1331 813 1299 791 1243 749 1166 771 1149 785 1142 801 1141 858 1115 880 1098 '"
     },
     "execution_count": 196,
     "metadata": {},
     "output_type": "execute_result"
    }
   ],
   "source": [
    "for i in range(len(data['labelingInfo'])):\n",
    "    if data['labelingInfo'][i]['polygon']['label']=='머리':\n",
    "        head=data['labelingInfo'][i]['polygon']['location']\n",
    "    elif '발' in data['labelingInfo'][i]['polygon']['label']:\n",
    "        foot=data['labelingInfo'][i]['polygon']['location']\n",
    "    elif '몸' in data['labelingInfo'][i]['polygon']['label']:\n",
    "        body=data['labelingInfo'][i]['polygon']['location']\n",
    "body"
   ],
   "metadata": {
    "collapsed": false
   }
  },
  {
   "cell_type": "code",
   "execution_count": 180,
   "outputs": [],
   "source": [
    "head.strip().split(' ')\n",
    "head_x=[]\n",
    "head_y=[]\n",
    "odd=False\n",
    "for xy in head.strip().split(' '):\n",
    "    if odd:\n",
    "        head_y.append(xy)\n",
    "        odd=False\n",
    "    else:\n",
    "        odd=True\n",
    "foot_y=[]\n",
    "odd=False\n",
    "for xy in foot.strip().split(' '):\n",
    "    if odd:\n",
    "        foot_y.append(xy)\n",
    "        odd=False\n",
    "    else:\n",
    "        odd=True\n",
    "odd=False\n",
    "body_x=[]\n",
    "body_y=[]\n",
    "for xy in body.strip().split(' '):\n",
    "    if odd:\n",
    "        body_y.append(xy)\n",
    "        odd=False\n",
    "    else:\n",
    "        body_x.append(xy)\n",
    "        odd=True"
   ],
   "metadata": {
    "collapsed": false
   }
  },
  {
   "cell_type": "code",
   "execution_count": 181,
   "outputs": [
    {
     "data": {
      "text/plain": "'851'"
     },
     "execution_count": 181,
     "metadata": {},
     "output_type": "execute_result"
    }
   ],
   "source": [
    "max(head_y)"
   ],
   "metadata": {
    "collapsed": false
   }
  },
  {
   "cell_type": "code",
   "execution_count": 182,
   "outputs": [
    {
     "data": {
      "text/plain": "'2274'"
     },
     "execution_count": 182,
     "metadata": {},
     "output_type": "execute_result"
    }
   ],
   "source": [
    "min(foot_y)"
   ],
   "metadata": {
    "collapsed": false
   }
  },
  {
   "cell_type": "code",
   "execution_count": 183,
   "outputs": [
    {
     "data": {
      "text/plain": "[{'polygon': {'color': '#1beaac',\n   'location': '1027 545 960 564 917 612 902 686 894 733 909 788 945 792 976 800 1000 851 1105 804 1094 749 1121 670 1121 596 1074 553 1027 545 ',\n   'label': '머리',\n   'type': 'polygon'}},\n {'polygon': {'color': '#27b73c',\n   'location': '1035 1893 1078 1889 1141 1874 1160 1925 1176 2003 1180 2082 1172 2156 1172 2238 1172 2262 1086 2266 1090 2223 1074 2121 1058 2023 1051 1948 1035 1893 ',\n   'label': '아래왼쪽다리',\n   'type': 'polygon'}},\n {'polygon': {'color': '#56bcec',\n   'location': '913 2344 917 2376 968 2403 1019 2403 1105 2399 1180 2383 1196 2360 1188 2317 1176 2274 1082 2274 1070 2289 1031 2309 976 2328 913 2344 ',\n   'label': '왼발',\n   'type': 'polygon'}}]"
     },
     "execution_count": 183,
     "metadata": {},
     "output_type": "execute_result"
    }
   ],
   "source": [
    "data['labelingInfo']"
   ],
   "metadata": {
    "collapsed": false
   }
  },
  {
   "cell_type": "code",
   "execution_count": 184,
   "outputs": [
    {
     "data": {
      "text/plain": "['880',\n '932',\n '984',\n '1001',\n '1049',\n '1074',\n '1098',\n '1124',\n '1134',\n '1108',\n '1098',\n '1092',\n '1091',\n '1096',\n '1093',\n '1090',\n '1084',\n '1084',\n '1089',\n '1088',\n '1071',\n '1006',\n '941',\n '859',\n '831',\n '832',\n '841',\n '828',\n '821',\n '815',\n '818',\n '813',\n '791',\n '749',\n '771',\n '785',\n '801',\n '858',\n '880']"
     },
     "execution_count": 184,
     "metadata": {},
     "output_type": "execute_result"
    }
   ],
   "source": [
    "body_x"
   ],
   "metadata": {
    "collapsed": false
   }
  },
  {
   "cell_type": "code",
   "execution_count": 185,
   "outputs": [],
   "source": [
    "height=1400\n",
    "body_y_diff=[abs(height-int(y)) for y in body_y]"
   ],
   "metadata": {
    "collapsed": false
   }
  },
  {
   "cell_type": "code",
   "execution_count": 186,
   "outputs": [
    {
     "name": "stdout",
     "output_type": "stream",
     "text": [
      "3 1\n"
     ]
    }
   ],
   "source": [
    "a=100\n",
    "b=100\n",
    "for diff in body_y_diff:\n",
    "    if diff<a:\n",
    "        if diff<b:\n",
    "            a=b\n",
    "            b=diff\n",
    "        else:\n",
    "            a=diff\n",
    "print(a, b)"
   ],
   "metadata": {
    "collapsed": false
   }
  },
  {
   "cell_type": "code",
   "execution_count": 187,
   "outputs": [
    {
     "data": {
      "text/plain": "14"
     },
     "execution_count": 187,
     "metadata": {},
     "output_type": "execute_result"
    }
   ],
   "source": [
    "body_y_diff.index(b)"
   ],
   "metadata": {
    "collapsed": false
   }
  },
  {
   "cell_type": "code",
   "execution_count": 188,
   "outputs": [
    {
     "data": {
      "text/plain": "39"
     },
     "execution_count": 188,
     "metadata": {},
     "output_type": "execute_result"
    }
   ],
   "source": [
    "len(body_y_diff)"
   ],
   "metadata": {
    "collapsed": false
   }
  },
  {
   "cell_type": "code",
   "execution_count": 189,
   "outputs": [
    {
     "data": {
      "text/plain": "[302,\n 303,\n 305,\n 294,\n 277,\n 269,\n 265,\n 253,\n 243,\n 176,\n 142,\n 101,\n 72,\n 35,\n 1,\n 23,\n 58,\n 85,\n 108,\n 125,\n 123,\n 131,\n 136,\n 130,\n 133,\n 116,\n 82,\n 31,\n 3,\n 15,\n 69,\n 101,\n 157,\n 234,\n 251,\n 258,\n 259,\n 285,\n 302]"
     },
     "execution_count": 189,
     "metadata": {},
     "output_type": "execute_result"
    }
   ],
   "source": [
    "body_y_diff"
   ],
   "metadata": {
    "collapsed": false
   }
  },
  {
   "cell_type": "code",
   "execution_count": 190,
   "outputs": [
    {
     "data": {
      "text/plain": "0.09472551130247578"
     },
     "execution_count": 190,
     "metadata": {},
     "output_type": "execute_result"
    }
   ],
   "source": [
    "pHeight=176\n",
    "cmPerPixel=176/(int(max(foot_y))-int(min(head_y)))\n",
    "cmPerPixel"
   ],
   "metadata": {
    "collapsed": false
   }
  },
  {
   "cell_type": "code",
   "execution_count": 191,
   "outputs": [
    {
     "data": {
      "text/plain": "272"
     },
     "execution_count": 191,
     "metadata": {},
     "output_type": "execute_result"
    }
   ],
   "source": [
    "depthPixel=abs(int(body_x[body_y_diff.index(a)])-int(body_x[body_y_diff.index(b)]))\n",
    "depthPixel"
   ],
   "metadata": {
    "collapsed": false
   }
  },
  {
   "cell_type": "code",
   "execution_count": 192,
   "outputs": [
    {
     "data": {
      "text/plain": "25.765339074273413"
     },
     "execution_count": 192,
     "metadata": {},
     "output_type": "execute_result"
    }
   ],
   "source": [
    "depthcm=depthPixel*cmPerPixel\n",
    "depthcm"
   ],
   "metadata": {
    "collapsed": false
   }
  },
  {
   "cell_type": "code",
   "execution_count": 193,
   "outputs": [
    {
     "data": {
      "text/plain": "1858"
     },
     "execution_count": 193,
     "metadata": {},
     "output_type": "execute_result"
    }
   ],
   "source": [
    "int(max(foot_y))-int(min(head_y))"
   ],
   "metadata": {
    "collapsed": false
   }
  },
  {
   "cell_type": "code",
   "execution_count": 194,
   "outputs": [],
   "source": [
    "w=[]\n",
    "for i in range(len(body_x)):\n",
    "    w.append((int(body_x[i]), int(body_y[i])))"
   ],
   "metadata": {
    "collapsed": false
   }
  },
  {
   "cell_type": "code",
   "execution_count": 195,
   "outputs": [
    {
     "data": {
      "text/plain": "[(880, 1098),\n (932, 1097),\n (984, 1095),\n (1001, 1106),\n (1049, 1123),\n (1074, 1131),\n (1098, 1135),\n (1124, 1147),\n (1134, 1157),\n (1108, 1224),\n (1098, 1258),\n (1092, 1299),\n (1091, 1328),\n (1096, 1365),\n (1093, 1399),\n (1090, 1423),\n (1084, 1458),\n (1084, 1485),\n (1089, 1508),\n (1088, 1525),\n (1071, 1523),\n (1006, 1531),\n (941, 1536),\n (859, 1530),\n (831, 1533),\n (832, 1516),\n (841, 1482),\n (828, 1431),\n (821, 1397),\n (815, 1385),\n (818, 1331),\n (813, 1299),\n (791, 1243),\n (749, 1166),\n (771, 1149),\n (785, 1142),\n (801, 1141),\n (858, 1115),\n (880, 1098)]"
     },
     "execution_count": 195,
     "metadata": {},
     "output_type": "execute_result"
    }
   ],
   "source": [
    "w"
   ],
   "metadata": {
    "collapsed": false
   }
  },
  {
   "cell_type": "code",
   "execution_count": 160,
   "outputs": [
    {
     "name": "stdout",
     "output_type": "stream",
     "text": [
      "749 1108\n"
     ]
    }
   ],
   "source": [
    "print(body_x[body_y_diff.index(a)],body_x[body_y_diff.index(b)])"
   ],
   "metadata": {
    "collapsed": false
   }
  },
  {
   "cell_type": "code",
   "execution_count": 162,
   "outputs": [],
   "source": [
    "from matplotlib import pyplot as plt\n",
    "import numpy as np"
   ],
   "metadata": {
    "collapsed": false
   }
  },
  {
   "cell_type": "code",
   "execution_count": 200,
   "outputs": [
    {
     "data": {
      "text/plain": "<Figure size 432x288 with 1 Axes>",
      "image/png": "[encoded data removed]"
     },
     "metadata": {
      "needs_background": "light"
     },
     "output_type": "display_data"
    }
   ],
   "source": [
    "for i in range(len(body_x)):\n",
    "    plt.plot(int(body_x[i]), 2940-int(body_y[i]), 'or')\n",
    "plt.show()"
   ],
   "metadata": {
    "collapsed": false
   }
  },
  {
   "cell_type": "code",
   "execution_count": 2,
   "outputs": [],
   "source": [
    "import xml.etree.ElementTree as ET"
   ],
   "metadata": {
    "collapsed": false
   }
  },
  {
   "cell_type": "code",
   "execution_count": 6,
   "outputs": [],
   "source": [
    "tree=ET.parse('./xml/expose.xml')"
   ],
   "metadata": {
    "collapsed": false
   }
  },
  {
   "cell_type": "code",
   "execution_count": 4,
   "outputs": [],
   "source": [
    "import exposal as E"
   ],
   "metadata": {
    "collapsed": false
   }
  },
  {
   "cell_type": "code",
   "execution_count": 5,
   "outputs": [
    {
     "data": {
      "text/plain": "{'kvp': 120, 'ma': 320, 'msec': 12.0, 'mas': 3.84}"
     },
     "execution_count": 5,
     "metadata": {},
     "output_type": "execute_result"
    }
   ],
   "source": [
    "expose=E.getExposal('CHEST', 'PA')\n",
    "expose"
   ],
   "metadata": {
    "collapsed": false
   }
  },
  {
   "cell_type": "code",
   "execution_count": 7,
   "outputs": [
    {
     "data": {
      "text/plain": "<xml.etree.ElementTree.ElementTree at 0x21ec9ffab20>"
     },
     "execution_count": 7,
     "metadata": {},
     "output_type": "execute_result"
    }
   ],
   "source": [
    "tree"
   ],
   "metadata": {
    "collapsed": false
   }
  },
  {
   "cell_type": "code",
   "execution_count": 8,
   "outputs": [
    {
     "data": {
      "text/plain": "dict_keys(['kvp', 'ma', 'msec', 'mas'])"
     },
     "execution_count": 8,
     "metadata": {},
     "output_type": "execute_result"
    }
   ],
   "source": [
    "keys=expose.keys()\n",
    "keys"
   ],
   "metadata": {
    "collapsed": false
   }
  },
  {
   "cell_type": "code",
   "execution_count": 10,
   "outputs": [
    {
     "data": {
      "text/plain": "dict_values([120, 320, 12.0, 3.84])"
     },
     "execution_count": 10,
     "metadata": {},
     "output_type": "execute_result"
    }
   ],
   "source": [
    "values=expose.values()\n",
    "values"
   ],
   "metadata": {
    "collapsed": false
   }
  },
  {
   "cell_type": "code",
   "execution_count": 12,
   "outputs": [
    {
     "data": {
      "text/plain": "<Element 'expose' at 0x0000021ECA7B97C0>"
     },
     "execution_count": 12,
     "metadata": {},
     "output_type": "execute_result"
    }
   ],
   "source": [
    "root=tree.getroot()\n",
    "root"
   ],
   "metadata": {
    "collapsed": false
   }
  },
  {
   "cell_type": "code",
   "execution_count": 16,
   "outputs": [
    {
     "data": {
      "text/plain": "'100'"
     },
     "execution_count": 16,
     "metadata": {},
     "output_type": "execute_result"
    }
   ],
   "source": [
    "root.find('kvp').text='100'\n",
    "root.find('kvp').text"
   ],
   "metadata": {
    "collapsed": false
   }
  },
  {
   "cell_type": "code",
   "execution_count": 17,
   "outputs": [
    {
     "data": {
      "text/plain": "'100'"
     },
     "execution_count": 17,
     "metadata": {},
     "output_type": "execute_result"
    }
   ],
   "source": [
    "tree.findtext('kvp')"
   ],
   "metadata": {
    "collapsed": false
   }
  },
  {
   "cell_type": "code",
   "execution_count": 18,
   "outputs": [
    {
     "data": {
      "text/plain": "'300'"
     },
     "execution_count": 18,
     "metadata": {},
     "output_type": "execute_result"
    }
   ],
   "source": [
    "root.findtext('ma')"
   ],
   "metadata": {
    "collapsed": false
   }
  },
  {
   "cell_type": "code",
   "execution_count": 19,
   "outputs": [],
   "source": [
    "tree.write('./xml/expose.xml')"
   ],
   "metadata": {
    "collapsed": false
   }
  },
  {
   "cell_type": "code",
   "execution_count": 21,
   "outputs": [
    {
     "data": {
      "text/plain": "False"
     },
     "execution_count": 21,
     "metadata": {},
     "output_type": "execute_result"
    }
   ],
   "source": [
    "a=True\n",
    "not a"
   ],
   "metadata": {
    "collapsed": false
   }
  },
  {
   "cell_type": "code",
   "execution_count": null,
   "outputs": [],
   "source": [],
   "metadata": {
    "collapsed": false
   }
  },
  {
   "cell_type": "code",
   "execution_count": null,
   "outputs": [],
   "source": [],
   "metadata": {
    "collapsed": false
   }
  },
  {
   "cell_type": "code",
   "execution_count": null,
   "outputs": [],
   "source": [],
   "metadata": {
    "collapsed": false
   }
  },
  {
   "cell_type": "code",
   "execution_count": null,
   "outputs": [],
   "source": [],
   "metadata": {
    "collapsed": false
   }
  },
  {
   "cell_type": "code",
   "execution_count": null,
   "outputs": [],
   "source": [],
   "metadata": {
    "collapsed": false
   }
  },
  {
   "cell_type": "code",
   "execution_count": null,
   "outputs": [],
   "source": [],
   "metadata": {
    "collapsed": false
   }
  },
  {
   "cell_type": "code",
   "execution_count": null,
   "outputs": [],
   "source": [],
   "metadata": {
    "collapsed": false
   }
  },
  {
   "cell_type": "code",
   "execution_count": null,
   "outputs": [],
   "source": [],
   "metadata": {
    "collapsed": false
   }
  },
  {
   "cell_type": "code",
   "execution_count": null,
   "outputs": [],
   "source": [],
   "metadata": {
    "collapsed": false
   }
  },
  {
   "cell_type": "code",
   "execution_count": null,
   "outputs": [],
   "source": [],
   "metadata": {
    "collapsed": false
   }
  },
  {
   "cell_type": "code",
   "execution_count": null,
   "outputs": [],
   "source": [],
   "metadata": {
    "collapsed": false
   }
  },
  {
   "cell_type": "code",
   "execution_count": null,
   "outputs": [],
   "source": [],
   "metadata": {
    "collapsed": false
   }
  },
  {
   "cell_type": "code",
   "execution_count": null,
   "outputs": [],
   "source": [],
   "metadata": {
    "collapsed": false
   }
  },
  {
   "cell_type": "code",
   "execution_count": null,
   "outputs": [],
   "source": [],
   "metadata": {
    "collapsed": false
   }
  },
  {
   "cell_type": "code",
   "execution_count": null,
   "outputs": [],
   "source": [],
   "metadata": {
    "collapsed": false
   }
  },
  {
   "cell_type": "code",
   "execution_count": null,
   "outputs": [],
   "source": [],
   "metadata": {
    "collapsed": false
   }
  },
  {
   "cell_type": "code",
   "execution_count": null,
   "outputs": [],
   "source": [],
   "metadata": {
    "collapsed": false
   }
  },
  {
   "cell_type": "code",
   "execution_count": null,
   "outputs": [],
   "source": [],
   "metadata": {
    "collapsed": false
   }
  },
  {
   "cell_type": "code",
   "execution_count": null,
   "outputs": [],
   "source": [],
   "metadata": {
    "collapsed": false
   }
  },
  {
   "cell_type": "code",
   "execution_count": null,
   "outputs": [],
   "source": [],
   "metadata": {
    "collapsed": false
   }
  },
  {
   "cell_type": "code",
   "execution_count": null,
   "outputs": [],
   "source": [],
   "metadata": {
    "collapsed": false
   }
  },
  {
   "cell_type": "code",
   "execution_count": null,
   "outputs": [],
   "source": [],
   "metadata": {
    "collapsed": false
   }
  },
  {
   "cell_type": "code",
   "execution_count": null,
   "outputs": [],
   "source": [],
   "metadata": {
    "collapsed": false
   }
  },
  {
   "cell_type": "code",
   "execution_count": null,
   "outputs": [],
   "source": [],
   "metadata": {
    "collapsed": false
   }
  },
  {
   "cell_type": "code",
   "execution_count": null,
   "outputs": [],
   "source": [],
   "metadata": {
    "collapsed": false
   }
  },
  {
   "cell_type": "code",
   "execution_count": null,
   "outputs": [],
   "source": [],
   "metadata": {
    "collapsed": false
   }
  },
  {
   "cell_type": "code",
   "execution_count": null,
   "outputs": [],
   "source": [],
   "metadata": {
    "collapsed": false
   }
  },
  {
   "cell_type": "code",
   "execution_count": null,
   "outputs": [],
   "source": [],
   "metadata": {
    "collapsed": false
   }
  },
  {
   "cell_type": "code",
   "execution_count": null,
   "outputs": [],
   "source": [],
   "metadata": {
    "collapsed": false,
    "pycharm": {
     "is_executing": true
    }
   }
  },
  {
   "cell_type": "code",
   "execution_count": null,
   "outputs": [],
   "source": [],
   "metadata": {
    "collapsed": false,
    "pycharm": {
     "is_executing": true
    }
   }
  },
  {
   "cell_type": "code",
   "execution_count": null,
   "outputs": [],
   "source": [],
   "metadata": {
    "collapsed": false,
    "pycharm": {
     "is_executing": true
    }
   }
  },
  {
   "cell_type": "code",
   "execution_count": null,
   "outputs": [],
   "source": [],
   "metadata": {
    "collapsed": false,
    "pycharm": {
     "is_executing": true
    }
   }
  },
  {
   "cell_type": "code",
   "execution_count": null,
   "outputs": [],
   "source": [],
   "metadata": {
    "collapsed": false,
    "pycharm": {
     "is_executing": true
    }
   }
  },
  {
   "cell_type": "code",
   "execution_count": null,
   "outputs": [],
   "source": [],
   "metadata": {
    "collapsed": false,
    "pycharm": {
     "is_executing": true
    }
   }
  },
  {
   "cell_type": "code",
   "execution_count": null,
   "outputs": [],
   "source": [],
   "metadata": {
    "collapsed": false,
    "pycharm": {
     "is_executing": true
    }
   }
  },
  {
   "cell_type": "code",
   "execution_count": 16,
   "outputs": [],
   "source": [],
   "metadata": {
    "collapsed": false
   }
  }
 ],
 "metadata": {
  "kernelspec": {
   "display_name": "Python 3",
   "language": "python",
   "name": "python3"
  },
  "language_info": {
   "codemirror_mode": {
    "name": "ipython",
    "version": 2
   },
   "file_extension": ".py",
   "mimetype": "text/x-python",
   "name": "python",
   "nbconvert_exporter": "python",
   "pygments_lexer": "ipython2",
   "version": "2.7.6"
  }
 },
 "nbformat": 4,
 "nbformat_minor": 0
}
